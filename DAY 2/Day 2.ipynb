{
 "cells": [
  {
   "cell_type": "code",
   "execution_count": 1,
   "id": "25aca578-86f5-4f68-8650-2834ffebb083",
   "metadata": {},
   "outputs": [],
   "source": [
    "import pandas as pd\n",
    "import numpy as np"
   ]
  },
  {
   "cell_type": "code",
   "execution_count": 4,
   "id": "7e3d8651-29ed-484f-bf2a-14382a4d8142",
   "metadata": {},
   "outputs": [
    {
     "name": "stdout",
     "output_type": "stream",
     "text": [
      "1.5\n",
      "7.0685775\n"
     ]
    }
   ],
   "source": [
    "pi = 3.14159 # approximate\n",
    "diameter = 3\n",
    "\n",
    "# Create a variable called 'radius' equal to half the diameter\n",
    "radius  = diameter /2\n",
    "# Create a variable called 'area', using the formula for the area of a circle: pi times the radius squared\n",
    "area = pi * (radius*radius)\n",
    "print(radius)\n",
    "print(area)\n"
   ]
  },
  {
   "cell_type": "code",
   "execution_count": null,
   "id": "e9084c41-1331-42e5-8bb5-48e6ff77ff1d",
   "metadata": {},
   "outputs": [],
   "source": []
  },
  {
   "cell_type": "code",
   "execution_count": 6,
   "id": "65146505-757f-4a8d-9cc6-cf780a0d5626",
   "metadata": {},
   "outputs": [
    {
     "name": "stdout",
     "output_type": "stream",
     "text": [
      "[3, 2, 1]\n",
      "[1, 2, 3]\n"
     ]
    }
   ],
   "source": [
    "a = [1, 2, 3]\n",
    "b = [3, 2, 1]\n",
    "\n",
    "a_temp = a\n",
    "b_temp = b\n",
    "\n",
    "b = a_temp\n",
    "a = b_temp\n",
    "print(a)\n",
    "print(b)"
   ]
  },
  {
   "cell_type": "markdown",
   "id": "3a6a91fc-a912-436b-8bcb-fe88a309b1dc",
   "metadata": {},
   "source": [
    "# Add parentheses to the following expression so that it evaluates to 1."
   ]
  },
  {
   "cell_type": "code",
   "execution_count": 7,
   "id": "025ec4ad-3ba0-478b-b4e1-32d136c71225",
   "metadata": {},
   "outputs": [
    {
     "data": {
      "text/plain": [
       "1"
      ]
     },
     "execution_count": 7,
     "metadata": {},
     "output_type": "execute_result"
    }
   ],
   "source": [
    "# 5 - 3 // 2\n",
    "(5-3)//2"
   ]
  },
  {
   "cell_type": "markdown",
   "id": "b5dad17b-a3d9-4587-aa40-2d748e699381",
   "metadata": {},
   "source": [
    "# 3b.  <span title=\"A bit spicy\" style=\"color: darkgreen \">🌶️</span>\n",
    "Add parentheses to the following expression so that it evaluates to 0."
   ]
  },
  {
   "cell_type": "code",
   "execution_count": 8,
   "id": "a883b746-55ab-4f29-b42b-19ed13bc304f",
   "metadata": {},
   "outputs": [
    {
     "data": {
      "text/plain": [
       "0"
      ]
     },
     "execution_count": 8,
     "metadata": {},
     "output_type": "execute_result"
    }
   ],
   "source": [
    "8 - (3 * 2) -(1 + 1) "
   ]
  },
  {
   "cell_type": "code",
   "execution_count": null,
   "id": "af8f1d0d-ef08-4006-a4d9-d05f18a2f31f",
   "metadata": {},
   "outputs": [],
   "source": []
  }
 ],
 "metadata": {
  "kernelspec": {
   "display_name": "Python 3",
   "language": "python",
   "name": "python3"
  },
  "language_info": {
   "codemirror_mode": {
    "name": "ipython",
    "version": 3
   },
   "file_extension": ".py",
   "mimetype": "text/x-python",
   "name": "python",
   "nbconvert_exporter": "python",
   "pygments_lexer": "ipython3",
   "version": "3.8.8"
  }
 },
 "nbformat": 4,
 "nbformat_minor": 5
}
